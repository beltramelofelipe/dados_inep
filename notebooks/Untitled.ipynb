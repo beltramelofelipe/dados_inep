{
 "cells": [
  {
   "cell_type": "code",
   "execution_count": 1,
   "id": "0b4b79eb-6bca-4f68-820b-6ed4ebc09d38",
   "metadata": {},
   "outputs": [],
   "source": [
    "from bs4 import BeautifulSoup\n",
    "import requests\n",
    "import urllib\n",
    "from pathlib import Path\n",
    "# import ssl"
   ]
  },
  {
   "cell_type": "code",
   "execution_count": null,
   "id": "69d0db9e",
   "metadata": {},
   "outputs": [],
   "source": [
    "def obten_dados_censo(\n",
    "\n",
    "    url: str = 'https://www.gov.br/inep/pt-br/acesso-a-informacao/dados-abertos/microdados/censo-escolar',\n",
    "\n",
    ") -> Path:\n",
    "    \n",
    "    \"\"\"\n",
    "    Realiza download dos dados do censo escolar\n",
    "    :param url: endereco site do INEP dados do censo\n",
    "    \"\"\"\n",
    "    \n",
    "    html = urllib.request.urlopen(url).read()\n",
    "    soup = BeautifulSoup(html, features=\"html.parser\")\n",
    "    \n",
    "    links = {link.get(\"href\").split(\"_\")[-1]: link.get(\"href\") for link in soup.find_all(\"a\", {\"class\":\"external-link\"})}\n",
    "    \n",
    "    caminho_saida = Path(\"../dados/censo_escolar\")\n",
    "    caminho_saida.mkdir(parents=True, exist_ok=True)\n",
    "    \n",
    "    for dado in links?\n",
    "        r = requests.get(links[dado], verify=False)\n",
    "        with open(caminho_saida / dado, 'wb') as arq:\n",
    "        arq.write(r.content)    "
   ]
  },
  {
   "cell_type": "code",
   "execution_count": 2,
   "id": "ceca81f1-79b2-42c1-9c37-cb9375b655db",
   "metadata": {},
   "outputs": [],
   "source": []
  },
  {
   "cell_type": "code",
   "execution_count": 3,
   "id": "470e2a63-b112-47d2-9a0f-2e6a4ab06a9c",
   "metadata": {},
   "outputs": [],
   "source": [
    "soup = BeautifulSoup(html, features=\"html.parser\")"
   ]
  },
  {
   "cell_type": "code",
   "execution_count": 4,
   "id": "c4bd4f23-48ae-4740-babc-f791f8540a00",
   "metadata": {},
   "outputs": [],
   "source": [
    "links = {link.get(\"href\").split(\"_\")[-1]: link.get(\"href\") for link in soup.find_all(\"a\", {\"class\":\"external-link\"})}"
   ]
  },
  {
   "cell_type": "code",
   "execution_count": 5,
   "id": "3491bd7f-0235-449b-b5ba-6421404de5a1",
   "metadata": {},
   "outputs": [
    {
     "data": {
      "text/plain": [
       "{'2023.zip': 'https://download.inep.gov.br/dados_abertos/microdados_censo_escolar_2023.zip',\n",
       " '2022.zip': 'https://download.inep.gov.br/dados_abertos/microdados_censo_escolar_2022.zip',\n",
       " '2021.zip': 'https://download.inep.gov.br/dados_abertos/microdados_censo_escolar_2021.zip',\n",
       " '2020.zip': 'https://download.inep.gov.br/dados_abertos/microdados_censo_escolar_2020.zip',\n",
       " '2019.zip': 'https://download.inep.gov.br/dados_abertos/microdados_censo_escolar_2019.zip',\n",
       " '2018.zip': 'https://download.inep.gov.br/dados_abertos/microdados_censo_escolar_2018.zip',\n",
       " '2017.zip': 'https://download.inep.gov.br/dados_abertos/microdados_censo_escolar_2017.zip',\n",
       " '2016.zip': 'https://download.inep.gov.br/dados_abertos/microdados_censo_escolar_2016.zip',\n",
       " '2015.zip': 'https://download.inep.gov.br/dados_abertos/microdados_censo_escolar_2015.zip',\n",
       " '2014.zip': 'https://download.inep.gov.br/dados_abertos/microdados_censo_escolar_2014.zip',\n",
       " '2013.zip': 'https://download.inep.gov.br/dados_abertos/microdados_censo_escolar_2013.zip',\n",
       " '2012.zip': 'https://download.inep.gov.br/dados_abertos/microdados_censo_escolar_2012.zip',\n",
       " '2011.zip': 'https://download.inep.gov.br/dados_abertos/microdados_censo_escolar_2011.zip',\n",
       " '2010.zip': 'https://download.inep.gov.br/dados_abertos/microdados_censo_escolar_2010.zip',\n",
       " '2009.zip': 'https://download.inep.gov.br/dados_abertos/microdados_censo_escolar_2009.zip',\n",
       " '2008.zip': 'https://download.inep.gov.br/dados_abertos/microdados_censo_escolar_2008.zip',\n",
       " '2007.zip': 'https://download.inep.gov.br/dados_abertos/microdados_censo_escolar_2007.zip',\n",
       " '2006.zip': 'https://download.inep.gov.br/dados_abertos/microdados_censo_escolar_2006.zip',\n",
       " '2005.zip': 'https://download.inep.gov.br/dados_abertos/microdados_censo_escolar_2005.zip',\n",
       " '2004.zip': 'https://download.inep.gov.br/dados_abertos/microdados_censo_escolar_2004.zip',\n",
       " '2003.zip': 'https://download.inep.gov.br/dados_abertos/microdados_censo_escolar_2003.zip',\n",
       " '2002.zip': 'https://download.inep.gov.br/dados_abertos/microdados_censo_escolar_2002.zip',\n",
       " '2001.zip': 'https://download.inep.gov.br/dados_abertos/microdados_censo_escolar_2001.zip',\n",
       " '2000.zip': 'https://download.inep.gov.br/dados_abertos/microdados_censo_escolar_2000.zip',\n",
       " '1999.zip': 'https://download.inep.gov.br/dados_abertos/microdados_censo_escolar_1999.zip',\n",
       " '1998.zip': 'https://download.inep.gov.br/dados_abertos/microdados_censo_escolar_1998.zip',\n",
       " '1997.zip': 'https://download.inep.gov.br/dados_abertos/microdados_censo_escolar_1997.zip',\n",
       " '1996.zip': 'https://download.inep.gov.br/dados_abertos/microdados_censo_escolar_1996.zip',\n",
       " '1995.zip': 'https://download.inep.gov.br/dados_abertos/microdados_censo_escolar_1995.zip'}"
      ]
     },
     "execution_count": 5,
     "metadata": {},
     "output_type": "execute_result"
    }
   ],
   "source": [
    "links"
   ]
  },
  {
   "cell_type": "code",
   "execution_count": 6,
   "id": "f8ee1985-4037-495e-af0c-1764d36ea90c",
   "metadata": {},
   "outputs": [],
   "source": [
    "caminho_saida = Path(\"../dados/censo_escolar\")\n",
    "caminho_saida.mkdir(parents=True, exist_ok=True)"
   ]
  },
  {
   "cell_type": "code",
   "execution_count": 8,
   "id": "6857cd8b-f290-448d-8ae6-438cb246f455",
   "metadata": {},
   "outputs": [
    {
     "name": "stderr",
     "output_type": "stream",
     "text": [
      "C:\\Users\\Windows 10\\anaconda3\\Lib\\site-packages\\urllib3\\connectionpool.py:1056: InsecureRequestWarning: Unverified HTTPS request is being made to host 'download.inep.gov.br'. Adding certificate verification is strongly advised. See: https://urllib3.readthedocs.io/en/1.26.x/advanced-usage.html#ssl-warnings\n",
      "  warnings.warn(\n"
     ]
    }
   ],
   "source": [
    "r = requests.get(links['1996.zip'], verify=False)\n",
    "with open(caminho_saida / \"1996.zip\", 'wb') as arq:\n",
    "    arq.write(r.content)"
   ]
  },
  {
   "cell_type": "code",
   "execution_count": null,
   "id": "86774bfa-6e78-42dc-b6e6-bbb46c8f7f8d",
   "metadata": {},
   "outputs": [],
   "source": []
  },
  {
   "cell_type": "code",
   "execution_count": null,
   "id": "ca93ac67-94a3-43bb-a20a-e02f81dec3f7",
   "metadata": {},
   "outputs": [],
   "source": []
  }
 ],
 "metadata": {
  "kernelspec": {
   "display_name": "Python 3 (ipykernel)",
   "language": "python",
   "name": "python3"
  },
  "language_info": {
   "codemirror_mode": {
    "name": "ipython",
    "version": 3
   },
   "file_extension": ".py",
   "mimetype": "text/x-python",
   "name": "python",
   "nbconvert_exporter": "python",
   "pygments_lexer": "ipython3",
   "version": "3.11.5"
  }
 },
 "nbformat": 4,
 "nbformat_minor": 5
}
